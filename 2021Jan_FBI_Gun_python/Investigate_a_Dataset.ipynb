{
 "cells": [
  {
   "cell_type": "markdown",
   "metadata": {},
   "source": [
    "\n",
    "# Project: Investigate FBI Gun Data Analysis\n",
    "\n",
    "## Table of Contents\n",
    "<ul>\n",
    "<li><a href=\"#intro\">Introduction</a></li>\n",
    "<li><a href=\"#wrangling\">Data Wrangling</a></li>\n",
    "<li><a href=\"#eda\">Exploratory Data Analysis</a></li>\n",
    "<li><a href=\"#conclusions\">Conclusions</a></li>\n",
    "</ul>"
   ]
  },
  {
   "cell_type": "markdown",
   "metadata": {},
   "source": [
    "<a id='intro'></a>\n",
    "## Introduction\n",
    "\n",
    "> This data comes from FBI's National Instant Criminal Background Check System. This is used for recording infomation for gun owners.\n",
    ">\n",
    "> In this data, it records different infomation about the people who register to have a gun in different status.\n",
    "> Including: population estimates, gender, races, years, housing units, financial status, education, language of speaking, employment status.\n",
    ">\n",
    "> Original source: https://github.com/BuzzFeedNews/nics-firearm-background-checks/blob/master/README.md\n",
    ">\n",
    ">\n",
    ">\n",
    "> **Question:** How does different attributes affect gun holding rate? Which one is most associated with high gun per capita? Does gun holding rate increase thought 2010 to 2016?\n",
    ">\n",
    "> Especially we are going to expolre two main questions:\n",
    "> 1. In general, which attribute has the greatest impact effects gun holding rate?\n",
    "> 2. In one especfic category, how does years effect gun holding rate? How does between 2010 and 2016 has difference in this category?\n",
    "\n",
    "> Understanding this, will help us have a better understanding about infomation for gun owners.\n"
   ]
  },
  {
   "cell_type": "code",
   "execution_count": 62,
   "metadata": {},
   "outputs": [],
   "source": [
    "import pandas as pd\n",
    "import numpy as np\n",
    "import matplotlib.pyplot as plt\n",
    "import seaborn as sns\n",
    "% matplotlib inline"
   ]
  },
  {
   "cell_type": "markdown",
   "metadata": {},
   "source": [
    "<a id='wrangling'></a>\n",
    "## Data Wrangling\n",
    "\n",
    " - Have a general idea of the data.\n",
    " - Switch rows and columns.\n",
    " - Drop columns 65-85 which have no usefual infomation for further analysis.\n",
    "\n",
    "### General Properties"
   ]
  },
  {
   "cell_type": "code",
   "execution_count": 63,
   "metadata": {},
   "outputs": [
    {
     "data": {
      "text/html": [
       "<div>\n",
       "<style scoped>\n",
       "    .dataframe tbody tr th:only-of-type {\n",
       "        vertical-align: middle;\n",
       "    }\n",
       "\n",
       "    .dataframe tbody tr th {\n",
       "        vertical-align: top;\n",
       "    }\n",
       "\n",
       "    .dataframe thead th {\n",
       "        text-align: right;\n",
       "    }\n",
       "</style>\n",
       "<table border=\"1\" class=\"dataframe\">\n",
       "  <thead>\n",
       "    <tr style=\"text-align: right;\">\n",
       "      <th></th>\n",
       "      <th>Fact</th>\n",
       "      <th>Fact Note</th>\n",
       "      <th>Alabama</th>\n",
       "      <th>Alaska</th>\n",
       "      <th>Arizona</th>\n",
       "      <th>Arkansas</th>\n",
       "      <th>California</th>\n",
       "      <th>Colorado</th>\n",
       "      <th>Connecticut</th>\n",
       "      <th>Delaware</th>\n",
       "      <th>...</th>\n",
       "      <th>South Dakota</th>\n",
       "      <th>Tennessee</th>\n",
       "      <th>Texas</th>\n",
       "      <th>Utah</th>\n",
       "      <th>Vermont</th>\n",
       "      <th>Virginia</th>\n",
       "      <th>Washington</th>\n",
       "      <th>West Virginia</th>\n",
       "      <th>Wisconsin</th>\n",
       "      <th>Wyoming</th>\n",
       "    </tr>\n",
       "  </thead>\n",
       "  <tbody>\n",
       "    <tr>\n",
       "      <th>0</th>\n",
       "      <td>Population estimates, July 1, 2016,  (V2016)</td>\n",
       "      <td>NaN</td>\n",
       "      <td>4,863,300</td>\n",
       "      <td>741,894</td>\n",
       "      <td>6,931,071</td>\n",
       "      <td>2,988,248</td>\n",
       "      <td>39,250,017</td>\n",
       "      <td>5,540,545</td>\n",
       "      <td>3,576,452</td>\n",
       "      <td>952,065</td>\n",
       "      <td>...</td>\n",
       "      <td>865454</td>\n",
       "      <td>6651194</td>\n",
       "      <td>27,862,596</td>\n",
       "      <td>3,051,217</td>\n",
       "      <td>624,594</td>\n",
       "      <td>8,411,808</td>\n",
       "      <td>7,288,000</td>\n",
       "      <td>1,831,102</td>\n",
       "      <td>5,778,708</td>\n",
       "      <td>585,501</td>\n",
       "    </tr>\n",
       "    <tr>\n",
       "      <th>1</th>\n",
       "      <td>Population estimates base, April 1, 2010,  (V2...</td>\n",
       "      <td>NaN</td>\n",
       "      <td>4,780,131</td>\n",
       "      <td>710,249</td>\n",
       "      <td>6,392,301</td>\n",
       "      <td>2,916,025</td>\n",
       "      <td>37,254,522</td>\n",
       "      <td>5,029,324</td>\n",
       "      <td>3,574,114</td>\n",
       "      <td>897,936</td>\n",
       "      <td>...</td>\n",
       "      <td>814195</td>\n",
       "      <td>6346298</td>\n",
       "      <td>25,146,100</td>\n",
       "      <td>2,763,888</td>\n",
       "      <td>625,741</td>\n",
       "      <td>8,001,041</td>\n",
       "      <td>6,724,545</td>\n",
       "      <td>1,853,011</td>\n",
       "      <td>5,687,289</td>\n",
       "      <td>563,767</td>\n",
       "    </tr>\n",
       "    <tr>\n",
       "      <th>2</th>\n",
       "      <td>Population, percent change - April 1, 2010 (es...</td>\n",
       "      <td>NaN</td>\n",
       "      <td>1.70%</td>\n",
       "      <td>4.50%</td>\n",
       "      <td>8.40%</td>\n",
       "      <td>2.50%</td>\n",
       "      <td>5.40%</td>\n",
       "      <td>10.20%</td>\n",
       "      <td>0.10%</td>\n",
       "      <td>6.00%</td>\n",
       "      <td>...</td>\n",
       "      <td>0.063</td>\n",
       "      <td>0.048</td>\n",
       "      <td>10.80%</td>\n",
       "      <td>10.40%</td>\n",
       "      <td>-0.20%</td>\n",
       "      <td>5.10%</td>\n",
       "      <td>8.40%</td>\n",
       "      <td>-1.20%</td>\n",
       "      <td>1.60%</td>\n",
       "      <td>3.90%</td>\n",
       "    </tr>\n",
       "  </tbody>\n",
       "</table>\n",
       "<p>3 rows × 52 columns</p>\n",
       "</div>"
      ],
      "text/plain": [
       "                                                Fact Fact Note    Alabama  \\\n",
       "0       Population estimates, July 1, 2016,  (V2016)       NaN  4,863,300   \n",
       "1  Population estimates base, April 1, 2010,  (V2...       NaN  4,780,131   \n",
       "2  Population, percent change - April 1, 2010 (es...       NaN      1.70%   \n",
       "\n",
       "    Alaska    Arizona   Arkansas  California   Colorado Connecticut Delaware  \\\n",
       "0  741,894  6,931,071  2,988,248  39,250,017  5,540,545   3,576,452  952,065   \n",
       "1  710,249  6,392,301  2,916,025  37,254,522  5,029,324   3,574,114  897,936   \n",
       "2    4.50%      8.40%      2.50%       5.40%     10.20%       0.10%    6.00%   \n",
       "\n",
       "    ...    South Dakota Tennessee       Texas       Utah  Vermont   Virginia  \\\n",
       "0   ...          865454   6651194  27,862,596  3,051,217  624,594  8,411,808   \n",
       "1   ...          814195   6346298  25,146,100  2,763,888  625,741  8,001,041   \n",
       "2   ...           0.063     0.048      10.80%     10.40%   -0.20%      5.10%   \n",
       "\n",
       "  Washington West Virginia  Wisconsin  Wyoming  \n",
       "0  7,288,000     1,831,102  5,778,708  585,501  \n",
       "1  6,724,545     1,853,011  5,687,289  563,767  \n",
       "2      8.40%        -1.20%      1.60%    3.90%  \n",
       "\n",
       "[3 rows x 52 columns]"
      ]
     },
     "execution_count": 63,
     "metadata": {},
     "output_type": "execute_result"
    }
   ],
   "source": [
    "# Load data and print out the first 3 rows. \n",
    "df = pd.read_csv('U.S. Census Data.csv')\n",
    "\n",
    "df.head(3)"
   ]
  },
  {
   "cell_type": "markdown",
   "metadata": {},
   "source": [
    "We notice that, in our data, column \"Fact\" is the attributes we would like to analysis about. The column name is the category we want to analysis the attributes."
   ]
  },
  {
   "cell_type": "code",
   "execution_count": 64,
   "metadata": {},
   "outputs": [
    {
     "data": {
      "text/html": [
       "<div>\n",
       "<style scoped>\n",
       "    .dataframe tbody tr th:only-of-type {\n",
       "        vertical-align: middle;\n",
       "    }\n",
       "\n",
       "    .dataframe tbody tr th {\n",
       "        vertical-align: top;\n",
       "    }\n",
       "\n",
       "    .dataframe thead th {\n",
       "        text-align: right;\n",
       "    }\n",
       "</style>\n",
       "<table border=\"1\" class=\"dataframe\">\n",
       "  <thead>\n",
       "    <tr style=\"text-align: right;\">\n",
       "      <th></th>\n",
       "      <th>Population estimates, July 1, 2016,  (V2016)</th>\n",
       "      <th>Population estimates base, April 1, 2010,  (V2016)</th>\n",
       "      <th>Population, percent change - April 1, 2010 (estimates base) to July 1, 2016,  (V2016)</th>\n",
       "      <th>Population, Census, April 1, 2010</th>\n",
       "      <th>Persons under 5 years, percent, July 1, 2016,  (V2016)</th>\n",
       "      <th>Persons under 5 years, percent, April 1, 2010</th>\n",
       "      <th>Persons under 18 years, percent, July 1, 2016,  (V2016)</th>\n",
       "      <th>Persons under 18 years, percent, April 1, 2010</th>\n",
       "      <th>Persons 65 years and over, percent,  July 1, 2016,  (V2016)</th>\n",
       "      <th>Persons 65 years and over, percent, April 1, 2010</th>\n",
       "      <th>...</th>\n",
       "      <th>nan</th>\n",
       "      <th>Value Flags</th>\n",
       "      <th>-</th>\n",
       "      <th>D</th>\n",
       "      <th>F</th>\n",
       "      <th>FN</th>\n",
       "      <th>nan</th>\n",
       "      <th>S</th>\n",
       "      <th>X</th>\n",
       "      <th>Z</th>\n",
       "    </tr>\n",
       "  </thead>\n",
       "  <tbody>\n",
       "    <tr>\n",
       "      <th>Alabama</th>\n",
       "      <td>4,863,300</td>\n",
       "      <td>4,780,131</td>\n",
       "      <td>1.70%</td>\n",
       "      <td>4,779,736</td>\n",
       "      <td>6.00%</td>\n",
       "      <td>6.40%</td>\n",
       "      <td>22.60%</td>\n",
       "      <td>23.70%</td>\n",
       "      <td>16.10%</td>\n",
       "      <td>13.80%</td>\n",
       "      <td>...</td>\n",
       "      <td>NaN</td>\n",
       "      <td>NaN</td>\n",
       "      <td>NaN</td>\n",
       "      <td>NaN</td>\n",
       "      <td>NaN</td>\n",
       "      <td>NaN</td>\n",
       "      <td>NaN</td>\n",
       "      <td>NaN</td>\n",
       "      <td>NaN</td>\n",
       "      <td>NaN</td>\n",
       "    </tr>\n",
       "    <tr>\n",
       "      <th>Alaska</th>\n",
       "      <td>741,894</td>\n",
       "      <td>710,249</td>\n",
       "      <td>4.50%</td>\n",
       "      <td>710,231</td>\n",
       "      <td>7.30%</td>\n",
       "      <td>7.60%</td>\n",
       "      <td>25.20%</td>\n",
       "      <td>26.40%</td>\n",
       "      <td>10.40%</td>\n",
       "      <td>7.70%</td>\n",
       "      <td>...</td>\n",
       "      <td>NaN</td>\n",
       "      <td>NaN</td>\n",
       "      <td>NaN</td>\n",
       "      <td>NaN</td>\n",
       "      <td>NaN</td>\n",
       "      <td>NaN</td>\n",
       "      <td>NaN</td>\n",
       "      <td>NaN</td>\n",
       "      <td>NaN</td>\n",
       "      <td>NaN</td>\n",
       "    </tr>\n",
       "    <tr>\n",
       "      <th>Arizona</th>\n",
       "      <td>6,931,071</td>\n",
       "      <td>6,392,301</td>\n",
       "      <td>8.40%</td>\n",
       "      <td>6,392,017</td>\n",
       "      <td>6.30%</td>\n",
       "      <td>7.10%</td>\n",
       "      <td>23.50%</td>\n",
       "      <td>25.50%</td>\n",
       "      <td>16.90%</td>\n",
       "      <td>13.80%</td>\n",
       "      <td>...</td>\n",
       "      <td>NaN</td>\n",
       "      <td>NaN</td>\n",
       "      <td>NaN</td>\n",
       "      <td>NaN</td>\n",
       "      <td>NaN</td>\n",
       "      <td>NaN</td>\n",
       "      <td>NaN</td>\n",
       "      <td>NaN</td>\n",
       "      <td>NaN</td>\n",
       "      <td>NaN</td>\n",
       "    </tr>\n",
       "  </tbody>\n",
       "</table>\n",
       "<p>3 rows × 85 columns</p>\n",
       "</div>"
      ],
      "text/plain": [
       "        Population estimates, July 1, 2016,  (V2016)  \\\n",
       "Alabama                                    4,863,300   \n",
       "Alaska                                       741,894   \n",
       "Arizona                                    6,931,071   \n",
       "\n",
       "        Population estimates base, April 1, 2010,  (V2016)  \\\n",
       "Alabama                                          4,780,131   \n",
       "Alaska                                             710,249   \n",
       "Arizona                                          6,392,301   \n",
       "\n",
       "        Population, percent change - April 1, 2010 (estimates base) to July 1, 2016,  (V2016)  \\\n",
       "Alabama                                              1.70%                                      \n",
       "Alaska                                               4.50%                                      \n",
       "Arizona                                              8.40%                                      \n",
       "\n",
       "        Population, Census, April 1, 2010  \\\n",
       "Alabama                         4,779,736   \n",
       "Alaska                            710,231   \n",
       "Arizona                         6,392,017   \n",
       "\n",
       "        Persons under 5 years, percent, July 1, 2016,  (V2016)  \\\n",
       "Alabama                                              6.00%       \n",
       "Alaska                                               7.30%       \n",
       "Arizona                                              6.30%       \n",
       "\n",
       "        Persons under 5 years, percent, April 1, 2010  \\\n",
       "Alabama                                         6.40%   \n",
       "Alaska                                          7.60%   \n",
       "Arizona                                         7.10%   \n",
       "\n",
       "        Persons under 18 years, percent, July 1, 2016,  (V2016)  \\\n",
       "Alabama                                             22.60%        \n",
       "Alaska                                              25.20%        \n",
       "Arizona                                             23.50%        \n",
       "\n",
       "        Persons under 18 years, percent, April 1, 2010  \\\n",
       "Alabama                                         23.70%   \n",
       "Alaska                                          26.40%   \n",
       "Arizona                                         25.50%   \n",
       "\n",
       "        Persons 65 years and over, percent,  July 1, 2016,  (V2016)  \\\n",
       "Alabama                                             16.10%            \n",
       "Alaska                                              10.40%            \n",
       "Arizona                                             16.90%            \n",
       "\n",
       "        Persons 65 years and over, percent, April 1, 2010 ...   NaN  \\\n",
       "Alabama                                            13.80% ...   NaN   \n",
       "Alaska                                              7.70% ...   NaN   \n",
       "Arizona                                            13.80% ...   NaN   \n",
       "\n",
       "        Value Flags    -    D    F   FN  NaN    S    X    Z  \n",
       "Alabama         NaN  NaN  NaN  NaN  NaN  NaN  NaN  NaN  NaN  \n",
       "Alaska          NaN  NaN  NaN  NaN  NaN  NaN  NaN  NaN  NaN  \n",
       "Arizona         NaN  NaN  NaN  NaN  NaN  NaN  NaN  NaN  NaN  \n",
       "\n",
       "[3 rows x 85 columns]"
      ]
     },
     "execution_count": 64,
     "metadata": {},
     "output_type": "execute_result"
    }
   ],
   "source": [
    "# Switch the columns and rows.\n",
    "\n",
    "df_t = df.transpose(copy=True)\n",
    "df_t = df_t.iloc[2:]\n",
    "df_t = df_t.rename(index=str,columns = df[\"Fact\"]) \n",
    "\n",
    "# Check first 3 lines.\n",
    "df_t.head(3)"
   ]
  },
  {
   "cell_type": "markdown",
   "metadata": {},
   "source": [
    "After transpose, the infomation after column 64 are not useful for analysis."
   ]
  },
  {
   "cell_type": "code",
   "execution_count": 65,
   "metadata": {},
   "outputs": [
    {
     "data": {
      "text/html": [
       "<div>\n",
       "<style scoped>\n",
       "    .dataframe tbody tr th:only-of-type {\n",
       "        vertical-align: middle;\n",
       "    }\n",
       "\n",
       "    .dataframe tbody tr th {\n",
       "        vertical-align: top;\n",
       "    }\n",
       "\n",
       "    .dataframe thead th {\n",
       "        text-align: right;\n",
       "    }\n",
       "</style>\n",
       "<table border=\"1\" class=\"dataframe\">\n",
       "  <thead>\n",
       "    <tr style=\"text-align: right;\">\n",
       "      <th></th>\n",
       "      <th>Population estimates, July 1, 2016,  (V2016)</th>\n",
       "      <th>Population estimates base, April 1, 2010,  (V2016)</th>\n",
       "      <th>Population, percent change - April 1, 2010 (estimates base) to July 1, 2016,  (V2016)</th>\n",
       "      <th>Population, Census, April 1, 2010</th>\n",
       "      <th>Persons under 5 years, percent, July 1, 2016,  (V2016)</th>\n",
       "      <th>Persons under 5 years, percent, April 1, 2010</th>\n",
       "      <th>Persons under 18 years, percent, July 1, 2016,  (V2016)</th>\n",
       "      <th>Persons under 18 years, percent, April 1, 2010</th>\n",
       "      <th>Persons 65 years and over, percent,  July 1, 2016,  (V2016)</th>\n",
       "      <th>Persons 65 years and over, percent, April 1, 2010</th>\n",
       "      <th>...</th>\n",
       "      <th>Total nonemployer establishments, 2015</th>\n",
       "      <th>All firms, 2012</th>\n",
       "      <th>Men-owned firms, 2012</th>\n",
       "      <th>Women-owned firms, 2012</th>\n",
       "      <th>Minority-owned firms, 2012</th>\n",
       "      <th>Nonminority-owned firms, 2012</th>\n",
       "      <th>Veteran-owned firms, 2012</th>\n",
       "      <th>Nonveteran-owned firms, 2012</th>\n",
       "      <th>Population per square mile, 2010</th>\n",
       "      <th>Land area in square miles, 2010</th>\n",
       "    </tr>\n",
       "  </thead>\n",
       "  <tbody>\n",
       "    <tr>\n",
       "      <th>Alabama</th>\n",
       "      <td>4,863,300</td>\n",
       "      <td>4,780,131</td>\n",
       "      <td>1.70%</td>\n",
       "      <td>4,779,736</td>\n",
       "      <td>6.00%</td>\n",
       "      <td>6.40%</td>\n",
       "      <td>22.60%</td>\n",
       "      <td>23.70%</td>\n",
       "      <td>16.10%</td>\n",
       "      <td>13.80%</td>\n",
       "      <td>...</td>\n",
       "      <td>322,025</td>\n",
       "      <td>374,153</td>\n",
       "      <td>203,604</td>\n",
       "      <td>137,630</td>\n",
       "      <td>92,219</td>\n",
       "      <td>272,651</td>\n",
       "      <td>41,943</td>\n",
       "      <td>316,984</td>\n",
       "      <td>94.4</td>\n",
       "      <td>50,645.33</td>\n",
       "    </tr>\n",
       "    <tr>\n",
       "      <th>Alaska</th>\n",
       "      <td>741,894</td>\n",
       "      <td>710,249</td>\n",
       "      <td>4.50%</td>\n",
       "      <td>710,231</td>\n",
       "      <td>7.30%</td>\n",
       "      <td>7.60%</td>\n",
       "      <td>25.20%</td>\n",
       "      <td>26.40%</td>\n",
       "      <td>10.40%</td>\n",
       "      <td>7.70%</td>\n",
       "      <td>...</td>\n",
       "      <td>55,521</td>\n",
       "      <td>68,032</td>\n",
       "      <td>35,402</td>\n",
       "      <td>22,141</td>\n",
       "      <td>13,688</td>\n",
       "      <td>51,147</td>\n",
       "      <td>7,953</td>\n",
       "      <td>56,091</td>\n",
       "      <td>1.2</td>\n",
       "      <td>570,640.95</td>\n",
       "    </tr>\n",
       "    <tr>\n",
       "      <th>Arizona</th>\n",
       "      <td>6,931,071</td>\n",
       "      <td>6,392,301</td>\n",
       "      <td>8.40%</td>\n",
       "      <td>6,392,017</td>\n",
       "      <td>6.30%</td>\n",
       "      <td>7.10%</td>\n",
       "      <td>23.50%</td>\n",
       "      <td>25.50%</td>\n",
       "      <td>16.90%</td>\n",
       "      <td>13.80%</td>\n",
       "      <td>...</td>\n",
       "      <td>451,951</td>\n",
       "      <td>499,926</td>\n",
       "      <td>245,243</td>\n",
       "      <td>182,425</td>\n",
       "      <td>135,313</td>\n",
       "      <td>344,981</td>\n",
       "      <td>46,780</td>\n",
       "      <td>427,582</td>\n",
       "      <td>56.3</td>\n",
       "      <td>113,594.08</td>\n",
       "    </tr>\n",
       "  </tbody>\n",
       "</table>\n",
       "<p>3 rows × 64 columns</p>\n",
       "</div>"
      ],
      "text/plain": [
       "        Population estimates, July 1, 2016,  (V2016)  \\\n",
       "Alabama                                    4,863,300   \n",
       "Alaska                                       741,894   \n",
       "Arizona                                    6,931,071   \n",
       "\n",
       "        Population estimates base, April 1, 2010,  (V2016)  \\\n",
       "Alabama                                          4,780,131   \n",
       "Alaska                                             710,249   \n",
       "Arizona                                          6,392,301   \n",
       "\n",
       "        Population, percent change - April 1, 2010 (estimates base) to July 1, 2016,  (V2016)  \\\n",
       "Alabama                                              1.70%                                      \n",
       "Alaska                                               4.50%                                      \n",
       "Arizona                                              8.40%                                      \n",
       "\n",
       "        Population, Census, April 1, 2010  \\\n",
       "Alabama                         4,779,736   \n",
       "Alaska                            710,231   \n",
       "Arizona                         6,392,017   \n",
       "\n",
       "        Persons under 5 years, percent, July 1, 2016,  (V2016)  \\\n",
       "Alabama                                              6.00%       \n",
       "Alaska                                               7.30%       \n",
       "Arizona                                              6.30%       \n",
       "\n",
       "        Persons under 5 years, percent, April 1, 2010  \\\n",
       "Alabama                                         6.40%   \n",
       "Alaska                                          7.60%   \n",
       "Arizona                                         7.10%   \n",
       "\n",
       "        Persons under 18 years, percent, July 1, 2016,  (V2016)  \\\n",
       "Alabama                                             22.60%        \n",
       "Alaska                                              25.20%        \n",
       "Arizona                                             23.50%        \n",
       "\n",
       "        Persons under 18 years, percent, April 1, 2010  \\\n",
       "Alabama                                         23.70%   \n",
       "Alaska                                          26.40%   \n",
       "Arizona                                         25.50%   \n",
       "\n",
       "        Persons 65 years and over, percent,  July 1, 2016,  (V2016)  \\\n",
       "Alabama                                             16.10%            \n",
       "Alaska                                              10.40%            \n",
       "Arizona                                             16.90%            \n",
       "\n",
       "        Persons 65 years and over, percent, April 1, 2010  \\\n",
       "Alabama                                            13.80%   \n",
       "Alaska                                              7.70%   \n",
       "Arizona                                            13.80%   \n",
       "\n",
       "                      ...                \\\n",
       "Alabama               ...                 \n",
       "Alaska                ...                 \n",
       "Arizona               ...                 \n",
       "\n",
       "        Total nonemployer establishments, 2015 All firms, 2012  \\\n",
       "Alabama                                322,025         374,153   \n",
       "Alaska                                  55,521          68,032   \n",
       "Arizona                                451,951         499,926   \n",
       "\n",
       "        Men-owned firms, 2012 Women-owned firms, 2012  \\\n",
       "Alabama               203,604                 137,630   \n",
       "Alaska                 35,402                  22,141   \n",
       "Arizona               245,243                 182,425   \n",
       "\n",
       "        Minority-owned firms, 2012 Nonminority-owned firms, 2012  \\\n",
       "Alabama                     92,219                       272,651   \n",
       "Alaska                      13,688                        51,147   \n",
       "Arizona                    135,313                       344,981   \n",
       "\n",
       "        Veteran-owned firms, 2012 Nonveteran-owned firms, 2012  \\\n",
       "Alabama                    41,943                      316,984   \n",
       "Alaska                      7,953                       56,091   \n",
       "Arizona                    46,780                      427,582   \n",
       "\n",
       "        Population per square mile, 2010 Land area in square miles, 2010  \n",
       "Alabama                             94.4                       50,645.33  \n",
       "Alaska                               1.2                      570,640.95  \n",
       "Arizona                             56.3                      113,594.08  \n",
       "\n",
       "[3 rows x 64 columns]"
      ]
     },
     "execution_count": 65,
     "metadata": {},
     "output_type": "execute_result"
    }
   ],
   "source": [
    "# Drop column 64-85.\n",
    "\n",
    "df_t.drop(df_t.iloc[:, 64:85], inplace = True, axis = 1) \n",
    "df_t.head(3)"
   ]
  },
  {
   "cell_type": "code",
   "execution_count": 66,
   "metadata": {},
   "outputs": [
    {
     "data": {
      "text/plain": [
       "(50, 64)"
      ]
     },
     "execution_count": 66,
     "metadata": {},
     "output_type": "execute_result"
    }
   ],
   "source": [
    "# Check data shape\n",
    "df_t.shape"
   ]
  },
  {
   "cell_type": "markdown",
   "metadata": {},
   "source": [
    "\n",
    "### Data Cleaning (change string to float and make sub dataframes)\n",
    "\n",
    "1. All data are in the from of string. We convert the data we would like to analysis into float for easier comparison.\n",
    "2. We make several sub dataframe for further analysis.\n",
    "\n",
    "\n",
    "##### Change string to float:\n",
    "\n",
    ">Special cases:\n",
    ">\n",
    "> - '-' : Either no or too few sample observations were available to compute an estimate, or a ratio of medians >cannot be calculated because one or both of the median estimates falls in the lowest or upper interval of an open >ended distribution.\n",
    "> - 'D' : Suppressed to avoid disclosure of confidential information\n",
    "> - 'F' : Fewer than 25 firms\n",
    "> - 'FN' : Footnote on this item in place of data\n",
    "> - 'NA' : Not available\n",
    "> - 'S' : Suppressed; does not meet publication standards\n",
    "> - 'X' : Not applicable\n",
    "> - 'Z' : Value greater than zero but less than half unit of measure shown\n",
    "\n",
    "Based on the description above, we approximate '-', 'Z', 'X', 'F' as zero, and 'D', 'FN', 'NA', 'S' as mean. Meanwhile, convert percent into float if needed.\n",
    "\n",
    "##### Sub dataframe:\n",
    "For comparing the relationship bewteen gun registration with different attributes, we consider those attributes.\n",
    "1. Year: (df_year : 4-9)\n",
    "2. Race: (df_race: 12-20)\n",
    "3. Education( df_edu: 34-36)\n"
   ]
  },
  {
   "cell_type": "code",
   "execution_count": 67,
   "metadata": {},
   "outputs": [],
   "source": [
    "\"\"\"\n",
    "For onverting string contains with '%' to float.\n",
    "from data we know Z means value greater than zero but less than half unit of measure shown,\n",
    "\"\"\"\n",
    "def strToFloat(x):\n",
    "    if not isinstance(x, str):\n",
    "        return x\n",
    "    else :\n",
    "        if x == '-' or x == 'Z' or x == 'X' or x == 'F':\n",
    "            x = 0.00\n",
    "        elif x == 'D' or x == 'FN' or x == 'NA' or x == 'S':\n",
    "            x = None # we convert to None for further replacement\n",
    "        elif x.find('%') != -1: # x in form of '2.00%'       \n",
    "            x = float(x[:-1]) / 100.0\n",
    "        elif x.find(',') != -1: # x in form of '2,000,000'\n",
    "            x = x.replace(',', '')\n",
    "            if x.find('$') != -1:\n",
    "                x = x.replace('$', '') # x in form of '$2,000,000'\n",
    "            x = float(x)\n",
    "        elif x.find('$') != -1: # x in form of '$2000'\n",
    "            x = float(x.replace('$', ''))\n",
    "        else:\n",
    "            x = float(x)\n",
    "    return x"
   ]
  },
  {
   "cell_type": "code",
   "execution_count": 68,
   "metadata": {},
   "outputs": [
    {
     "data": {
      "text/html": [
       "<div>\n",
       "<style scoped>\n",
       "    .dataframe tbody tr th:only-of-type {\n",
       "        vertical-align: middle;\n",
       "    }\n",
       "\n",
       "    .dataframe tbody tr th {\n",
       "        vertical-align: top;\n",
       "    }\n",
       "\n",
       "    .dataframe thead th {\n",
       "        text-align: right;\n",
       "    }\n",
       "</style>\n",
       "<table border=\"1\" class=\"dataframe\">\n",
       "  <thead>\n",
       "    <tr style=\"text-align: right;\">\n",
       "      <th></th>\n",
       "      <th>Population estimates, July 1, 2016,  (V2016)</th>\n",
       "      <th>Population estimates base, April 1, 2010,  (V2016)</th>\n",
       "      <th>Population, percent change - April 1, 2010 (estimates base) to July 1, 2016,  (V2016)</th>\n",
       "      <th>Population, Census, April 1, 2010</th>\n",
       "      <th>Persons under 5 years, percent, July 1, 2016,  (V2016)</th>\n",
       "      <th>Persons under 5 years, percent, April 1, 2010</th>\n",
       "      <th>Persons under 18 years, percent, July 1, 2016,  (V2016)</th>\n",
       "      <th>Persons under 18 years, percent, April 1, 2010</th>\n",
       "      <th>Persons 65 years and over, percent,  July 1, 2016,  (V2016)</th>\n",
       "      <th>Persons 65 years and over, percent, April 1, 2010</th>\n",
       "      <th>...</th>\n",
       "      <th>Total nonemployer establishments, 2015</th>\n",
       "      <th>All firms, 2012</th>\n",
       "      <th>Men-owned firms, 2012</th>\n",
       "      <th>Women-owned firms, 2012</th>\n",
       "      <th>Minority-owned firms, 2012</th>\n",
       "      <th>Nonminority-owned firms, 2012</th>\n",
       "      <th>Veteran-owned firms, 2012</th>\n",
       "      <th>Nonveteran-owned firms, 2012</th>\n",
       "      <th>Population per square mile, 2010</th>\n",
       "      <th>Land area in square miles, 2010</th>\n",
       "    </tr>\n",
       "  </thead>\n",
       "  <tbody>\n",
       "    <tr>\n",
       "      <th>Alabama</th>\n",
       "      <td>4863300.0</td>\n",
       "      <td>4780131.0</td>\n",
       "      <td>0.017</td>\n",
       "      <td>4779736.0</td>\n",
       "      <td>0.060</td>\n",
       "      <td>0.064</td>\n",
       "      <td>0.226</td>\n",
       "      <td>0.237</td>\n",
       "      <td>0.161</td>\n",
       "      <td>0.138</td>\n",
       "      <td>...</td>\n",
       "      <td>322025.0</td>\n",
       "      <td>374153.0</td>\n",
       "      <td>203604.0</td>\n",
       "      <td>137630.0</td>\n",
       "      <td>92219.0</td>\n",
       "      <td>272651.0</td>\n",
       "      <td>41943.0</td>\n",
       "      <td>316984.0</td>\n",
       "      <td>94.4</td>\n",
       "      <td>50645.33</td>\n",
       "    </tr>\n",
       "    <tr>\n",
       "      <th>Alaska</th>\n",
       "      <td>741894.0</td>\n",
       "      <td>710249.0</td>\n",
       "      <td>0.045</td>\n",
       "      <td>710231.0</td>\n",
       "      <td>0.073</td>\n",
       "      <td>0.076</td>\n",
       "      <td>0.252</td>\n",
       "      <td>0.264</td>\n",
       "      <td>0.104</td>\n",
       "      <td>0.077</td>\n",
       "      <td>...</td>\n",
       "      <td>55521.0</td>\n",
       "      <td>68032.0</td>\n",
       "      <td>35402.0</td>\n",
       "      <td>22141.0</td>\n",
       "      <td>13688.0</td>\n",
       "      <td>51147.0</td>\n",
       "      <td>7953.0</td>\n",
       "      <td>56091.0</td>\n",
       "      <td>1.2</td>\n",
       "      <td>570640.95</td>\n",
       "    </tr>\n",
       "    <tr>\n",
       "      <th>Arizona</th>\n",
       "      <td>6931071.0</td>\n",
       "      <td>6392301.0</td>\n",
       "      <td>0.084</td>\n",
       "      <td>6392017.0</td>\n",
       "      <td>0.063</td>\n",
       "      <td>0.071</td>\n",
       "      <td>0.235</td>\n",
       "      <td>0.255</td>\n",
       "      <td>0.169</td>\n",
       "      <td>0.138</td>\n",
       "      <td>...</td>\n",
       "      <td>451951.0</td>\n",
       "      <td>499926.0</td>\n",
       "      <td>245243.0</td>\n",
       "      <td>182425.0</td>\n",
       "      <td>135313.0</td>\n",
       "      <td>344981.0</td>\n",
       "      <td>46780.0</td>\n",
       "      <td>427582.0</td>\n",
       "      <td>56.3</td>\n",
       "      <td>113594.08</td>\n",
       "    </tr>\n",
       "  </tbody>\n",
       "</table>\n",
       "<p>3 rows × 64 columns</p>\n",
       "</div>"
      ],
      "text/plain": [
       "         Population estimates, July 1, 2016,  (V2016)  \\\n",
       "Alabama                                     4863300.0   \n",
       "Alaska                                       741894.0   \n",
       "Arizona                                     6931071.0   \n",
       "\n",
       "         Population estimates base, April 1, 2010,  (V2016)  \\\n",
       "Alabama                                          4780131.0    \n",
       "Alaska                                            710249.0    \n",
       "Arizona                                          6392301.0    \n",
       "\n",
       "         Population, percent change - April 1, 2010 (estimates base) to July 1, 2016,  (V2016)  \\\n",
       "Alabama                                              0.017                                       \n",
       "Alaska                                               0.045                                       \n",
       "Arizona                                              0.084                                       \n",
       "\n",
       "         Population, Census, April 1, 2010  \\\n",
       "Alabama                          4779736.0   \n",
       "Alaska                            710231.0   \n",
       "Arizona                          6392017.0   \n",
       "\n",
       "         Persons under 5 years, percent, July 1, 2016,  (V2016)  \\\n",
       "Alabama                                              0.060        \n",
       "Alaska                                               0.073        \n",
       "Arizona                                              0.063        \n",
       "\n",
       "         Persons under 5 years, percent, April 1, 2010  \\\n",
       "Alabama                                          0.064   \n",
       "Alaska                                           0.076   \n",
       "Arizona                                          0.071   \n",
       "\n",
       "         Persons under 18 years, percent, July 1, 2016,  (V2016)  \\\n",
       "Alabama                                              0.226         \n",
       "Alaska                                               0.252         \n",
       "Arizona                                              0.235         \n",
       "\n",
       "         Persons under 18 years, percent, April 1, 2010  \\\n",
       "Alabama                                           0.237   \n",
       "Alaska                                            0.264   \n",
       "Arizona                                           0.255   \n",
       "\n",
       "         Persons 65 years and over, percent,  July 1, 2016,  (V2016)  \\\n",
       "Alabama                                              0.161             \n",
       "Alaska                                               0.104             \n",
       "Arizona                                              0.169             \n",
       "\n",
       "         Persons 65 years and over, percent, April 1, 2010  \\\n",
       "Alabama                                              0.138   \n",
       "Alaska                                               0.077   \n",
       "Arizona                                              0.138   \n",
       "\n",
       "                      ...                 \\\n",
       "Alabama               ...                  \n",
       "Alaska                ...                  \n",
       "Arizona               ...                  \n",
       "\n",
       "         Total nonemployer establishments, 2015  All firms, 2012  \\\n",
       "Alabama                                322025.0         374153.0   \n",
       "Alaska                                  55521.0          68032.0   \n",
       "Arizona                                451951.0         499926.0   \n",
       "\n",
       "         Men-owned firms, 2012  Women-owned firms, 2012  \\\n",
       "Alabama               203604.0                 137630.0   \n",
       "Alaska                 35402.0                  22141.0   \n",
       "Arizona               245243.0                 182425.0   \n",
       "\n",
       "         Minority-owned firms, 2012  Nonminority-owned firms, 2012  \\\n",
       "Alabama                     92219.0                       272651.0   \n",
       "Alaska                      13688.0                        51147.0   \n",
       "Arizona                    135313.0                       344981.0   \n",
       "\n",
       "         Veteran-owned firms, 2012  Nonveteran-owned firms, 2012  \\\n",
       "Alabama                    41943.0                      316984.0   \n",
       "Alaska                      7953.0                       56091.0   \n",
       "Arizona                    46780.0                      427582.0   \n",
       "\n",
       "         Population per square mile, 2010  Land area in square miles, 2010  \n",
       "Alabama                              94.4                         50645.33  \n",
       "Alaska                                1.2                        570640.95  \n",
       "Arizona                              56.3                        113594.08  \n",
       "\n",
       "[3 rows x 64 columns]"
      ]
     },
     "execution_count": 68,
     "metadata": {},
     "output_type": "execute_result"
    }
   ],
   "source": [
    "# Use helper function to convert all data into float we want.\n",
    "for col in df_t.columns:\n",
    "    for ind in df_t.index: \n",
    "        df_t[col][ind] = strToFloat(df_t[col][ind])\n",
    "\n",
    "# fill all the nones.\n",
    "df_t.fillna(df_t.mean(), inplace=True)  \n",
    "df_t.head(3)"
   ]
  },
  {
   "cell_type": "code",
   "execution_count": 69,
   "metadata": {},
   "outputs": [
    {
     "data": {
      "text/html": [
       "<div>\n",
       "<style scoped>\n",
       "    .dataframe tbody tr th:only-of-type {\n",
       "        vertical-align: middle;\n",
       "    }\n",
       "\n",
       "    .dataframe tbody tr th {\n",
       "        vertical-align: top;\n",
       "    }\n",
       "\n",
       "    .dataframe thead th {\n",
       "        text-align: right;\n",
       "    }\n",
       "</style>\n",
       "<table border=\"1\" class=\"dataframe\">\n",
       "  <thead>\n",
       "    <tr style=\"text-align: right;\">\n",
       "      <th></th>\n",
       "      <th>under 5 years(2016)</th>\n",
       "      <th>under 5 years(2010)</th>\n",
       "      <th>under 18 years(2016)</th>\n",
       "      <th>under 18 years(2010)</th>\n",
       "      <th>65 years and over(2016)</th>\n",
       "      <th>65 years and over(2010)</th>\n",
       "    </tr>\n",
       "  </thead>\n",
       "  <tbody>\n",
       "    <tr>\n",
       "      <th>Alabama</th>\n",
       "      <td>0.060</td>\n",
       "      <td>0.064</td>\n",
       "      <td>0.226</td>\n",
       "      <td>0.237</td>\n",
       "      <td>0.161</td>\n",
       "      <td>0.138</td>\n",
       "    </tr>\n",
       "    <tr>\n",
       "      <th>Alaska</th>\n",
       "      <td>0.073</td>\n",
       "      <td>0.076</td>\n",
       "      <td>0.252</td>\n",
       "      <td>0.264</td>\n",
       "      <td>0.104</td>\n",
       "      <td>0.077</td>\n",
       "    </tr>\n",
       "    <tr>\n",
       "      <th>Arizona</th>\n",
       "      <td>0.063</td>\n",
       "      <td>0.071</td>\n",
       "      <td>0.235</td>\n",
       "      <td>0.255</td>\n",
       "      <td>0.169</td>\n",
       "      <td>0.138</td>\n",
       "    </tr>\n",
       "  </tbody>\n",
       "</table>\n",
       "</div>"
      ],
      "text/plain": [
       "         under 5 years(2016)  under 5 years(2010)  under 18 years(2016)  \\\n",
       "Alabama                0.060                0.064                 0.226   \n",
       "Alaska                 0.073                0.076                 0.252   \n",
       "Arizona                0.063                0.071                 0.235   \n",
       "\n",
       "         under 18 years(2010)  65 years and over(2016)  \\\n",
       "Alabama                 0.237                    0.161   \n",
       "Alaska                  0.264                    0.104   \n",
       "Arizona                 0.255                    0.169   \n",
       "\n",
       "         65 years and over(2010)  \n",
       "Alabama                    0.138  \n",
       "Alaska                     0.077  \n",
       "Arizona                    0.138  "
      ]
     },
     "execution_count": 69,
     "metadata": {},
     "output_type": "execute_result"
    }
   ],
   "source": [
    "# we create separate sub dataframe for later analysis. \n",
    "\n",
    "# df_year is the sub dataframe only contains year related infomation.\n",
    "df_year = df_t.iloc[:,4:10] \n",
    "\n",
    "# rename for cleaner column names.\n",
    "df_year.rename(columns = {df_year.columns[0]:'under 5 years(2016)',\n",
    "                               df_year.columns[1]:'under 5 years(2010)',\n",
    "                               df_year.columns[2]:'under 18 years(2016)',\n",
    "                               df_year.columns[3]:'under 18 years(2010)',\n",
    "                               df_year.columns[4]:'65 years and over(2016)',\n",
    "                               df_year.columns[5]:'65 years and over(2010)'}, inplace = True)\n",
    "\n",
    "df_year.head(3)"
   ]
  },
  {
   "cell_type": "code",
   "execution_count": 70,
   "metadata": {
    "scrolled": true
   },
   "outputs": [
    {
     "data": {
      "text/html": [
       "<div>\n",
       "<style scoped>\n",
       "    .dataframe tbody tr th:only-of-type {\n",
       "        vertical-align: middle;\n",
       "    }\n",
       "\n",
       "    .dataframe tbody tr th {\n",
       "        vertical-align: top;\n",
       "    }\n",
       "\n",
       "    .dataframe thead th {\n",
       "        text-align: right;\n",
       "    }\n",
       "</style>\n",
       "<table border=\"1\" class=\"dataframe\">\n",
       "  <thead>\n",
       "    <tr style=\"text-align: right;\">\n",
       "      <th></th>\n",
       "      <th>under 5 years(2016)</th>\n",
       "      <th>under 5 years(2010)</th>\n",
       "      <th>under 18 years(2016)</th>\n",
       "      <th>under 18 years(2010)</th>\n",
       "      <th>65 years and over(2016)</th>\n",
       "      <th>65 years and over(2010)</th>\n",
       "    </tr>\n",
       "  </thead>\n",
       "  <tbody>\n",
       "    <tr>\n",
       "      <th>count</th>\n",
       "      <td>50.000000</td>\n",
       "      <td>50.000000</td>\n",
       "      <td>50.00000</td>\n",
       "      <td>50.000000</td>\n",
       "      <td>50.000000</td>\n",
       "      <td>50.00000</td>\n",
       "    </tr>\n",
       "    <tr>\n",
       "      <th>mean</th>\n",
       "      <td>0.061600</td>\n",
       "      <td>0.065460</td>\n",
       "      <td>0.22750</td>\n",
       "      <td>0.238820</td>\n",
       "      <td>0.156160</td>\n",
       "      <td>0.13292</td>\n",
       "    </tr>\n",
       "    <tr>\n",
       "      <th>std</th>\n",
       "      <td>0.006612</td>\n",
       "      <td>0.007579</td>\n",
       "      <td>0.01977</td>\n",
       "      <td>0.019075</td>\n",
       "      <td>0.018321</td>\n",
       "      <td>0.01664</td>\n",
       "    </tr>\n",
       "    <tr>\n",
       "      <th>min</th>\n",
       "      <td>0.048000</td>\n",
       "      <td>0.051000</td>\n",
       "      <td>0.19000</td>\n",
       "      <td>0.207000</td>\n",
       "      <td>0.104000</td>\n",
       "      <td>0.07700</td>\n",
       "    </tr>\n",
       "    <tr>\n",
       "      <th>25%</th>\n",
       "      <td>0.058000</td>\n",
       "      <td>0.062000</td>\n",
       "      <td>0.21650</td>\n",
       "      <td>0.226750</td>\n",
       "      <td>0.149250</td>\n",
       "      <td>0.12425</td>\n",
       "    </tr>\n",
       "    <tr>\n",
       "      <th>50%</th>\n",
       "      <td>0.061000</td>\n",
       "      <td>0.065000</td>\n",
       "      <td>0.22750</td>\n",
       "      <td>0.237000</td>\n",
       "      <td>0.156500</td>\n",
       "      <td>0.13500</td>\n",
       "    </tr>\n",
       "    <tr>\n",
       "      <th>75%</th>\n",
       "      <td>0.064000</td>\n",
       "      <td>0.069750</td>\n",
       "      <td>0.23675</td>\n",
       "      <td>0.248000</td>\n",
       "      <td>0.165000</td>\n",
       "      <td>0.14275</td>\n",
       "    </tr>\n",
       "    <tr>\n",
       "      <th>max</th>\n",
       "      <td>0.083000</td>\n",
       "      <td>0.095000</td>\n",
       "      <td>0.30200</td>\n",
       "      <td>0.315000</td>\n",
       "      <td>0.199000</td>\n",
       "      <td>0.17300</td>\n",
       "    </tr>\n",
       "  </tbody>\n",
       "</table>\n",
       "</div>"
      ],
      "text/plain": [
       "       under 5 years(2016)  under 5 years(2010)  under 18 years(2016)  \\\n",
       "count            50.000000            50.000000              50.00000   \n",
       "mean              0.061600             0.065460               0.22750   \n",
       "std               0.006612             0.007579               0.01977   \n",
       "min               0.048000             0.051000               0.19000   \n",
       "25%               0.058000             0.062000               0.21650   \n",
       "50%               0.061000             0.065000               0.22750   \n",
       "75%               0.064000             0.069750               0.23675   \n",
       "max               0.083000             0.095000               0.30200   \n",
       "\n",
       "       under 18 years(2010)  65 years and over(2016)  65 years and over(2010)  \n",
       "count             50.000000                50.000000                 50.00000  \n",
       "mean               0.238820                 0.156160                  0.13292  \n",
       "std                0.019075                 0.018321                  0.01664  \n",
       "min                0.207000                 0.104000                  0.07700  \n",
       "25%                0.226750                 0.149250                  0.12425  \n",
       "50%                0.237000                 0.156500                  0.13500  \n",
       "75%                0.248000                 0.165000                  0.14275  \n",
       "max                0.315000                 0.199000                  0.17300  "
      ]
     },
     "execution_count": 70,
     "metadata": {},
     "output_type": "execute_result"
    }
   ],
   "source": [
    "# have a general idea of the data.\n",
    "df_year.describe()"
   ]
  },
  {
   "cell_type": "code",
   "execution_count": 71,
   "metadata": {},
   "outputs": [
    {
     "data": {
      "text/html": [
       "<div>\n",
       "<style scoped>\n",
       "    .dataframe tbody tr th:only-of-type {\n",
       "        vertical-align: middle;\n",
       "    }\n",
       "\n",
       "    .dataframe tbody tr th {\n",
       "        vertical-align: top;\n",
       "    }\n",
       "\n",
       "    .dataframe thead th {\n",
       "        text-align: right;\n",
       "    }\n",
       "</style>\n",
       "<table border=\"1\" class=\"dataframe\">\n",
       "  <thead>\n",
       "    <tr style=\"text-align: right;\">\n",
       "      <th></th>\n",
       "      <th>White alone</th>\n",
       "      <th>Black or African American alone</th>\n",
       "      <th>American Indian and Alaska Native alone</th>\n",
       "      <th>Asian alone</th>\n",
       "      <th>Native Hawaiian and Other Pacific Islander alone</th>\n",
       "      <th>Two or More Races</th>\n",
       "      <th>Hispanic or Latino</th>\n",
       "      <th>White alone, not Hispanic or Latino</th>\n",
       "    </tr>\n",
       "  </thead>\n",
       "  <tbody>\n",
       "    <tr>\n",
       "      <th>Alabama</th>\n",
       "      <td>0.693</td>\n",
       "      <td>0.268</td>\n",
       "      <td>0.007</td>\n",
       "      <td>0.014</td>\n",
       "      <td>0.001</td>\n",
       "      <td>0.016</td>\n",
       "      <td>0.042</td>\n",
       "      <td>0.658</td>\n",
       "    </tr>\n",
       "    <tr>\n",
       "      <th>Alaska</th>\n",
       "      <td>0.661</td>\n",
       "      <td>0.038</td>\n",
       "      <td>0.152</td>\n",
       "      <td>0.063</td>\n",
       "      <td>0.013</td>\n",
       "      <td>0.073</td>\n",
       "      <td>0.070</td>\n",
       "      <td>0.612</td>\n",
       "    </tr>\n",
       "    <tr>\n",
       "      <th>Arizona</th>\n",
       "      <td>0.833</td>\n",
       "      <td>0.049</td>\n",
       "      <td>0.054</td>\n",
       "      <td>0.034</td>\n",
       "      <td>0.003</td>\n",
       "      <td>0.028</td>\n",
       "      <td>0.309</td>\n",
       "      <td>0.555</td>\n",
       "    </tr>\n",
       "  </tbody>\n",
       "</table>\n",
       "</div>"
      ],
      "text/plain": [
       "         White alone  Black or African American alone  \\\n",
       "Alabama        0.693                            0.268   \n",
       "Alaska         0.661                            0.038   \n",
       "Arizona        0.833                            0.049   \n",
       "\n",
       "         American Indian and Alaska Native alone  Asian alone  \\\n",
       "Alabama                                    0.007        0.014   \n",
       "Alaska                                     0.152        0.063   \n",
       "Arizona                                    0.054        0.034   \n",
       "\n",
       "         Native Hawaiian and Other Pacific Islander alone  Two or More Races  \\\n",
       "Alabama                                             0.001              0.016   \n",
       "Alaska                                              0.013              0.073   \n",
       "Arizona                                             0.003              0.028   \n",
       "\n",
       "         Hispanic or Latino  White alone, not Hispanic or Latino  \n",
       "Alabama               0.042                                0.658  \n",
       "Alaska                0.070                                0.612  \n",
       "Arizona               0.309                                0.555  "
      ]
     },
     "execution_count": 71,
     "metadata": {},
     "output_type": "execute_result"
    }
   ],
   "source": [
    "# df_race is the sub dataframe only contains race related infomation about gun data.\n",
    "df_race = df_t.iloc[:,12:20]\n",
    "\n",
    "# rename for cleaner column names.\n",
    "df_race.rename(columns = {df_race.columns[0]:'White alone',\n",
    "                               df_race.columns[1]:'Black or African American alone',\n",
    "                               df_race.columns[2]:'American Indian and Alaska Native alone',\n",
    "                               df_race.columns[3]:'Asian alone',\n",
    "                               df_race.columns[4]:'Native Hawaiian and Other Pacific Islander alone',\n",
    "                               df_race.columns[5]:'Two or More Races',\n",
    "                               df_race.columns[6]:'Hispanic or Latino',\n",
    "                               df_race.columns[7]:'White alone, not Hispanic or Latino'}, inplace = True)\n",
    "df_race.head(3)"
   ]
  },
  {
   "cell_type": "code",
   "execution_count": 72,
   "metadata": {},
   "outputs": [
    {
     "data": {
      "text/html": [
       "<div>\n",
       "<style scoped>\n",
       "    .dataframe tbody tr th:only-of-type {\n",
       "        vertical-align: middle;\n",
       "    }\n",
       "\n",
       "    .dataframe tbody tr th {\n",
       "        vertical-align: top;\n",
       "    }\n",
       "\n",
       "    .dataframe thead th {\n",
       "        text-align: right;\n",
       "    }\n",
       "</style>\n",
       "<table border=\"1\" class=\"dataframe\">\n",
       "  <thead>\n",
       "    <tr style=\"text-align: right;\">\n",
       "      <th></th>\n",
       "      <th>White alone</th>\n",
       "      <th>Black or African American alone</th>\n",
       "      <th>American Indian and Alaska Native alone</th>\n",
       "      <th>Asian alone</th>\n",
       "      <th>Native Hawaiian and Other Pacific Islander alone</th>\n",
       "      <th>Two or More Races</th>\n",
       "      <th>Hispanic or Latino</th>\n",
       "      <th>White alone, not Hispanic or Latino</th>\n",
       "    </tr>\n",
       "  </thead>\n",
       "  <tbody>\n",
       "    <tr>\n",
       "      <th>count</th>\n",
       "      <td>50.000000</td>\n",
       "      <td>50.000000</td>\n",
       "      <td>50.000000</td>\n",
       "      <td>50.00000</td>\n",
       "      <td>50.000000</td>\n",
       "      <td>50.000000</td>\n",
       "      <td>50.00000</td>\n",
       "      <td>50.000000</td>\n",
       "    </tr>\n",
       "    <tr>\n",
       "      <th>mean</th>\n",
       "      <td>0.793080</td>\n",
       "      <td>0.110240</td>\n",
       "      <td>0.019980</td>\n",
       "      <td>0.04342</td>\n",
       "      <td>0.003960</td>\n",
       "      <td>0.029440</td>\n",
       "      <td>0.11714</td>\n",
       "      <td>0.693200</td>\n",
       "    </tr>\n",
       "    <tr>\n",
       "      <th>std</th>\n",
       "      <td>0.123359</td>\n",
       "      <td>0.096319</td>\n",
       "      <td>0.030651</td>\n",
       "      <td>0.05562</td>\n",
       "      <td>0.014377</td>\n",
       "      <td>0.031868</td>\n",
       "      <td>0.10326</td>\n",
       "      <td>0.156635</td>\n",
       "    </tr>\n",
       "    <tr>\n",
       "      <th>min</th>\n",
       "      <td>0.258000</td>\n",
       "      <td>0.006000</td>\n",
       "      <td>0.002000</td>\n",
       "      <td>0.00800</td>\n",
       "      <td>0.000000</td>\n",
       "      <td>0.012000</td>\n",
       "      <td>0.01500</td>\n",
       "      <td>0.221000</td>\n",
       "    </tr>\n",
       "    <tr>\n",
       "      <th>25%</th>\n",
       "      <td>0.724750</td>\n",
       "      <td>0.036250</td>\n",
       "      <td>0.005000</td>\n",
       "      <td>0.01725</td>\n",
       "      <td>0.001000</td>\n",
       "      <td>0.019000</td>\n",
       "      <td>0.05000</td>\n",
       "      <td>0.595500</td>\n",
       "    </tr>\n",
       "    <tr>\n",
       "      <th>50%</th>\n",
       "      <td>0.821000</td>\n",
       "      <td>0.082000</td>\n",
       "      <td>0.007500</td>\n",
       "      <td>0.02850</td>\n",
       "      <td>0.001000</td>\n",
       "      <td>0.022000</td>\n",
       "      <td>0.09200</td>\n",
       "      <td>0.729500</td>\n",
       "    </tr>\n",
       "    <tr>\n",
       "      <th>75%</th>\n",
       "      <td>0.875000</td>\n",
       "      <td>0.155250</td>\n",
       "      <td>0.016000</td>\n",
       "      <td>0.04775</td>\n",
       "      <td>0.002000</td>\n",
       "      <td>0.027000</td>\n",
       "      <td>0.13550</td>\n",
       "      <td>0.803750</td>\n",
       "    </tr>\n",
       "    <tr>\n",
       "      <th>max</th>\n",
       "      <td>0.948000</td>\n",
       "      <td>0.377000</td>\n",
       "      <td>0.152000</td>\n",
       "      <td>0.37700</td>\n",
       "      <td>0.102000</td>\n",
       "      <td>0.237000</td>\n",
       "      <td>0.48500</td>\n",
       "      <td>0.935000</td>\n",
       "    </tr>\n",
       "  </tbody>\n",
       "</table>\n",
       "</div>"
      ],
      "text/plain": [
       "       White alone  Black or African American alone  \\\n",
       "count    50.000000                        50.000000   \n",
       "mean      0.793080                         0.110240   \n",
       "std       0.123359                         0.096319   \n",
       "min       0.258000                         0.006000   \n",
       "25%       0.724750                         0.036250   \n",
       "50%       0.821000                         0.082000   \n",
       "75%       0.875000                         0.155250   \n",
       "max       0.948000                         0.377000   \n",
       "\n",
       "       American Indian and Alaska Native alone  Asian alone  \\\n",
       "count                                50.000000     50.00000   \n",
       "mean                                  0.019980      0.04342   \n",
       "std                                   0.030651      0.05562   \n",
       "min                                   0.002000      0.00800   \n",
       "25%                                   0.005000      0.01725   \n",
       "50%                                   0.007500      0.02850   \n",
       "75%                                   0.016000      0.04775   \n",
       "max                                   0.152000      0.37700   \n",
       "\n",
       "       Native Hawaiian and Other Pacific Islander alone  Two or More Races  \\\n",
       "count                                         50.000000          50.000000   \n",
       "mean                                           0.003960           0.029440   \n",
       "std                                            0.014377           0.031868   \n",
       "min                                            0.000000           0.012000   \n",
       "25%                                            0.001000           0.019000   \n",
       "50%                                            0.001000           0.022000   \n",
       "75%                                            0.002000           0.027000   \n",
       "max                                            0.102000           0.237000   \n",
       "\n",
       "       Hispanic or Latino  White alone, not Hispanic or Latino  \n",
       "count            50.00000                            50.000000  \n",
       "mean              0.11714                             0.693200  \n",
       "std               0.10326                             0.156635  \n",
       "min               0.01500                             0.221000  \n",
       "25%               0.05000                             0.595500  \n",
       "50%               0.09200                             0.729500  \n",
       "75%               0.13550                             0.803750  \n",
       "max               0.48500                             0.935000  "
      ]
     },
     "execution_count": 72,
     "metadata": {},
     "output_type": "execute_result"
    }
   ],
   "source": [
    "# have a general idea of the data\n",
    "df_race.describe()"
   ]
  },
  {
   "cell_type": "code",
   "execution_count": 73,
   "metadata": {},
   "outputs": [
    {
     "data": {
      "text/html": [
       "<div>\n",
       "<style scoped>\n",
       "    .dataframe tbody tr th:only-of-type {\n",
       "        vertical-align: middle;\n",
       "    }\n",
       "\n",
       "    .dataframe tbody tr th {\n",
       "        vertical-align: top;\n",
       "    }\n",
       "\n",
       "    .dataframe thead th {\n",
       "        text-align: right;\n",
       "    }\n",
       "</style>\n",
       "<table border=\"1\" class=\"dataframe\">\n",
       "  <thead>\n",
       "    <tr style=\"text-align: right;\">\n",
       "      <th></th>\n",
       "      <th>High school grad or higher</th>\n",
       "      <th>Bachelor or higher</th>\n",
       "    </tr>\n",
       "  </thead>\n",
       "  <tbody>\n",
       "    <tr>\n",
       "      <th>Alabama</th>\n",
       "      <td>0.843</td>\n",
       "      <td>0.235</td>\n",
       "    </tr>\n",
       "    <tr>\n",
       "      <th>Alaska</th>\n",
       "      <td>0.921</td>\n",
       "      <td>0.280</td>\n",
       "    </tr>\n",
       "    <tr>\n",
       "      <th>Arizona</th>\n",
       "      <td>0.860</td>\n",
       "      <td>0.275</td>\n",
       "    </tr>\n",
       "  </tbody>\n",
       "</table>\n",
       "</div>"
      ],
      "text/plain": [
       "         High school grad or higher  Bachelor or higher\n",
       "Alabama                       0.843               0.235\n",
       "Alaska                        0.921               0.280\n",
       "Arizona                       0.860               0.275"
      ]
     },
     "execution_count": 73,
     "metadata": {},
     "output_type": "execute_result"
    }
   ],
   "source": [
    "# df_edu is the sub dataframe only contains education related infomation.\n",
    "df_edu = df_t.iloc[:,34:36]   \n",
    "\n",
    "# rename for cleaner column names.\n",
    "df_edu.rename(columns = {df_edu.columns[0]:'High school grad or higher',\n",
    "                         df_edu.columns[1]:'Bachelor or higher'}, inplace = True)\n",
    "df_edu.head(3)"
   ]
  },
  {
   "cell_type": "markdown",
   "metadata": {},
   "source": [
    "<a id='eda'></a>\n",
    "## Exploratory Data Analysis\n",
    "\n",
    "### Research Question 1 (Attribute has the greatest impact)\n",
    "\n",
    "For question1, we are going to compare the impact on different attributes which have effect on gun holding capita. Especially:\n",
    "> 1. Difference in races\n",
    "> 2. Difference based on education level\n",
    "> 3. Difference bewtween years\n",
    "\n",
    "We plan to have a geranal idea on each attributes first, then compare which one has the greatest impact amoung each category.\n",
    "\n",
    "##### Race"
   ]
  },
  {
   "cell_type": "code",
   "execution_count": 74,
   "metadata": {},
   "outputs": [
    {
     "data": {
      "image/png": "[encoded data removed]",
      "text/plain": [
       "<matplotlib.figure.Figure at 0x7f2bfd108358>"
      ]
     },
     "metadata": {
      "needs_background": "light"
     },
     "output_type": "display_data"
    }
   ],
   "source": [
    "# have a general idea of the data\n",
    "df_race.hist(figsize=(12,12));"
   ]
  },
  {
   "cell_type": "markdown",
   "metadata": {},
   "source": [
    "We notice that white people have much higher gun holding rate compares to other races."
   ]
  },
  {
   "cell_type": "code",
   "execution_count": 75,
   "metadata": {},
   "outputs": [
    {
     "data": {
      "text/plain": [
       "Text(0.5,0,'gun holding rate')"
      ]
     },
     "execution_count": 75,
     "metadata": {},
     "output_type": "execute_result"
    },
    {
     "data": {
      "image/png": "[encoded data removed]",
      "text/plain": [
       "<matplotlib.figure.Figure at 0x7f2bfcdaf198>"
      ]
     },
     "metadata": {
      "needs_background": "light"
     },
     "output_type": "display_data"
    }
   ],
   "source": [
    "# use histgram to compare gun holding rate amoung races.\n",
    "df_race[\"White alone\"].hist(alpha=0.3, label='White alone', figsize=(10,5));\n",
    "df_race[\"Black or African American alone\"].hist(alpha=0.3, label='Black or African American alone', figsize=(10,5));\n",
    "df_race[\"American Indian and Alaska Native alone\"].hist(alpha=0.3, label='American Indian and Alaska Native alone', figsize=(10,5));\n",
    "df_race[\"Asian alone\"].hist(alpha=0.3, label='Asian alone', figsize=(10,5));\n",
    "df_race[\"Native Hawaiian and Other Pacific Islander alone\"].hist(alpha=0.3, label='Native Hawaiian and Other Pacific Islander alone', figsize=(10,5));\n",
    "plt.legend();\n",
    "plt.title(\"Comparasion between gun holding rate between different races\")\n",
    "plt.ylabel(\"numbers of states\")\n",
    "plt.xlabel(\"gun holding rate\")"
   ]
  },
  {
   "cell_type": "markdown",
   "metadata": {},
   "source": [
    "We notice we have a large difference between white people and other race people."
   ]
  },
  {
   "cell_type": "code",
   "execution_count": 76,
   "metadata": {},
   "outputs": [
    {
     "data": {
      "text/plain": [
       "Text(0.5,0,'gun holding rate')"
      ]
     },
     "execution_count": 76,
     "metadata": {},
     "output_type": "execute_result"
    },
    {
     "data": {
      "image/png": "[encoded data removed]",
      "text/plain": [
       "<matplotlib.figure.Figure at 0x7f2bfcd3ffd0>"
      ]
     },
     "metadata": {
      "needs_background": "light"
     },
     "output_type": "display_data"
    }
   ],
   "source": [
    "# using histgram to confirm our observation \n",
    "((df_race[\"Black or African American alone\"] \n",
    " + df_race[\"American Indian and Alaska Native alone\"]\n",
    " + df_race[\"Asian alone\"]\n",
    " + df_race[\"Native Hawaiian and Other Pacific Islander alone\"])/4).hist(alpha=0.5, label='other races', figsize=(10,5));\n",
    "((df_race[\"White alone\"]\n",
    " + df_race[\"White alone, not Hispanic or Latino\"])/2).hist(alpha=0.5, label='white', figsize=(10,5));\n",
    "plt.legend();\n",
    "plt.title(\"Comparasion between gun holding rate between other races and white race people\")\n",
    "plt.ylabel(\"numbers of states\")\n",
    "plt.xlabel(\"gun holding rate\")"
   ]
  },
  {
   "cell_type": "markdown",
   "metadata": {},
   "source": [
    "For race, we will compare the difference between white race and other races.\n",
    "###### Education"
   ]
  },
  {
   "cell_type": "code",
   "execution_count": 77,
   "metadata": {},
   "outputs": [
    {
     "data": {
      "image/png": "[encoded data removed]",
      "text/plain": [
       "<matplotlib.figure.Figure at 0x7f2bfcce0828>"
      ]
     },
     "metadata": {
      "needs_background": "light"
     },
     "output_type": "display_data"
    }
   ],
   "source": [
    "# have a general idea of the data.\n",
    "df_edu.hist(figsize=(10,4));"
   ]
  },
  {
   "cell_type": "markdown",
   "metadata": {},
   "source": [
    "There is a difference between high school grad or higher people's gun holding rate than people who have bachelor or higher education."
   ]
  },
  {
   "cell_type": "code",
   "execution_count": 78,
   "metadata": {},
   "outputs": [
    {
     "data": {
      "text/plain": [
       "Text(0.5,0,'gun holding rate')"
      ]
     },
     "execution_count": 78,
     "metadata": {},
     "output_type": "execute_result"
    },
    {
     "data": {
      "image/png": "[encoded data removed]",
      "text/plain": [
       "<matplotlib.figure.Figure at 0x7f2bfde41b00>"
      ]
     },
     "metadata": {
      "needs_background": "light"
     },
     "output_type": "display_data"
    }
   ],
   "source": [
    "# confirm our observation \n",
    "(df_edu[\"Bachelor or higher\"]).hist(alpha=0.5, label='bachelor or higher', figsize=(10,5));\n",
    "(df_edu[\"High school grad or higher\"]).hist(alpha=0.5, label='high school grad or higher', figsize=(10,5));\n",
    "plt.legend();\n",
    "plt.title(\"Comparasion between gun holding rate between high shcool grads and bacherlor grads\")\n",
    "plt.ylabel(\"numbers of states\")\n",
    "plt.xlabel(\"gun holding rate\")"
   ]
  },
  {
   "cell_type": "markdown",
   "metadata": {},
   "source": [
    "For education, it seems the gun holding rate in the people who have bachelor or higher have a great different to people who have high school grad or higher degree. We will compare this different to other attributes.\n",
    "###### Years"
   ]
  },
  {
   "cell_type": "code",
   "execution_count": 79,
   "metadata": {},
   "outputs": [
    {
     "data": {
      "image/png": "[encoded data removed]",
      "text/plain": [
       "<matplotlib.figure.Figure at 0x7f2bfdcea5c0>"
      ]
     },
     "metadata": {
      "needs_background": "light"
     },
     "output_type": "display_data"
    }
   ],
   "source": [
    "# have a general idea of the infomation.\n",
    "df_year.hist(figsize=(10,10));"
   ]
  },
  {
   "cell_type": "markdown",
   "metadata": {},
   "source": [
    "It seems people who are under 18 years have a great different than other years people."
   ]
  },
  {
   "cell_type": "code",
   "execution_count": 80,
   "metadata": {},
   "outputs": [
    {
     "data": {
      "text/plain": [
       "Text(0.5,0,'gun holding rate')"
      ]
     },
     "execution_count": 80,
     "metadata": {},
     "output_type": "execute_result"
    },
    {
     "data": {
      "image/png": "[encoded data removed]",
      "text/plain": [
       "<matplotlib.figure.Figure at 0x7f2bfd248f28>"
      ]
     },
     "metadata": {
      "needs_background": "light"
     },
     "output_type": "display_data"
    }
   ],
   "source": [
    "# we combine 2010 data and 2016 data to find which category has the greatest impact\n",
    "((df_year[\"under 5 years(2010)\"] + df_year[\"under 5 years(2016)\"])/2).hist(alpha=0.5, label='under 5', figsize=(10,5));\n",
    "((df_year[\"under 18 years(2010)\"] + df_year[\"under 18 years(2016)\"])/2).hist(alpha=0.5, label='under 18', figsize=(10,5));\n",
    "((df_year[\"65 years and over(2010)\"] + df_year[\"65 years and over(2016)\"])/2).hist(alpha=0.5, label='65 years and over', figsize=(10,5));\n",
    "plt.legend();\n",
    "plt.title(\"Comparasion between gun holding rate between 5 years, 18 years and over 65 years\")\n",
    "plt.ylabel(\"numbers of states\")\n",
    "plt.xlabel(\"gun holding rate\")"
   ]
  },
  {
   "cell_type": "code",
   "execution_count": 81,
   "metadata": {},
   "outputs": [
    {
     "data": {
      "text/plain": [
       "Text(0.5,0,'gun holding rate')"
      ]
     },
     "execution_count": 81,
     "metadata": {},
     "output_type": "execute_result"
    },
    {
     "data": {
      "image/png": "[encoded data removed]",
      "text/plain": [
       "<matplotlib.figure.Figure at 0x7f2bfcf878d0>"
      ]
     },
     "metadata": {
      "needs_background": "light"
     },
     "output_type": "display_data"
    }
   ],
   "source": [
    "# We use line histgram for comparing impact level.\n",
    "\n",
    "# For race.\n",
    "((df_race[\"White alone\"] + df_race[\"White alone, not Hispanic or Latino\"])/2\n",
    " - (df_race[\"Black or African American alone\"] \n",
    " + df_race[\"American Indian and Alaska Native alone\"]\n",
    " + df_race[\"Asian alone\"]\n",
    " + df_race[\"Native Hawaiian and Other Pacific Islander alone\"])/4).hist(bins=np.linspace(0, 1, 50), histtype=u'step', density=True, label='race', figsize=(10,5))  \n",
    "\n",
    "# For education.\n",
    "(df_edu[\"High school grad or higher\"]\n",
    " - df_edu[\"Bachelor or higher\"] ).hist(bins=np.linspace(0, 1, 50), histtype=u'step', density=True, label='education', figsize=(10,5))  \n",
    "\n",
    "# For years.\n",
    "(df_year[\"under 18 years(2016)\"] - (df_year[\"under 5 years(2016)\"] + df_year[\"65 years and over(2016)\"])/2).hist(bins=np.linspace(0, 1, 50), histtype=u'step', density=True, label='years', figsize=(10,5))  \n",
    "\n",
    "plt.legend();\n",
    "plt.title(\"Comparasion between different impact amoung race, education and years\")\n",
    "plt.ylabel(\"numbers of states\")\n",
    "plt.xlabel(\"gun holding rate\")"
   ]
  },
  {
   "cell_type": "markdown",
   "metadata": {},
   "source": [
    "We notice that, amoung this three attributes, races has the greatest impact.\n",
    "Years does not have a great impact compare to race and education level."
   ]
  },
  {
   "cell_type": "markdown",
   "metadata": {},
   "source": [
    "\n",
    "### Research Question 2 (Years)\n",
    "\n",
    "For question 2, we are going to explore the relationship between years and gun holding rate.\n",
    "\n",
    "1. How does different year group have different gun holding rate.\n",
    "2. How does gun holding rate change between 2010 and 2016 based on the data in year categroy."
   ]
  },
  {
   "cell_type": "markdown",
   "metadata": {},
   "source": [
    "From the general histgram in question 1, we notice that,\n",
    "1. only 65 years and over categary skewed to the left, under 5 years and under 18 years are skewed into right.\n",
    "2. It seems under 18 years categray has the overall highest gun holding rate.\n",
    "3. It seems 2016 has increase gun holding rate compare to 2010.\n",
    "\n",
    "We are going to compare more about years separately between 2010 data and 2016 data."
   ]
  },
  {
   "cell_type": "markdown",
   "metadata": {},
   "source": [
    "For point 2, we make a histgram comparing 'under 5 years', 'under 18 years' and '65 years and over' together."
   ]
  },
  {
   "cell_type": "code",
   "execution_count": 82,
   "metadata": {},
   "outputs": [
    {
     "data": {
      "text/plain": [
       "Text(0.5,0,'gun holding rate')"
      ]
     },
     "execution_count": 82,
     "metadata": {},
     "output_type": "execute_result"
    },
    {
     "data": {
      "image/png": "[encoded data removed]",
      "text/plain": [
       "<matplotlib.figure.Figure at 0x7f2bfd079ba8>"
      ]
     },
     "metadata": {
      "needs_background": "light"
     },
     "output_type": "display_data"
    }
   ],
   "source": [
    "# histgram for 2016 data.\n",
    "df_year[\"under 5 years(2016)\"].hist(alpha=0.5, label='under 5', figsize=(10,5));\n",
    "df_year[\"under 18 years(2016)\"].hist(alpha=0.5, label='under 18', figsize=(10,5));\n",
    "df_year[\"65 years and over(2016)\"].hist(alpha=0.5, label='65 years and over', figsize=(10,5));\n",
    "plt.legend();\n",
    "plt.title(\"Comparasion between gun holding rate between 5 years, 18 years and over 65 years in 2016\")\n",
    "plt.ylabel(\"numbers of states\")\n",
    "plt.xlabel(\"gun holding rate\")"
   ]
  },
  {
   "cell_type": "code",
   "execution_count": 75,
   "metadata": {},
   "outputs": [
    {
     "data": {
      "text/plain": [
       "Text(0.5,0,'gun holding rate')"
      ]
     },
     "execution_count": 75,
     "metadata": {},
     "output_type": "execute_result"
    },
    {
     "data": {
      "image/png": "[encoded data removed]",
      "text/plain": [
       "<matplotlib.figure.Figure at 0x7fd834663f60>"
      ]
     },
     "metadata": {
      "needs_background": "light"
     },
     "output_type": "display_data"
    }
   ],
   "source": [
    "# histgram for 2010 data.\n",
    "df_year[\"under 5 years(2010)\"].hist(alpha=0.5, label='under 5', figsize=(10,5));\n",
    "df_year[\"under 18 years(2010)\"].hist(alpha=0.5, label='under 18', figsize=(10,5));\n",
    "df_year[\"65 years and over(2010)\"].hist(alpha=0.5, label='65 years and over', figsize=(10,5));\n",
    "plt.legend();\n",
    "plt.title(\"Comparasion between gun holding rate between 5 years, 18 years and over 65 years in 2010\")\n",
    "plt.ylabel(\"numbers of states\")\n",
    "plt.xlabel(\"gun holding rate\")"
   ]
  },
  {
   "cell_type": "markdown",
   "metadata": {},
   "source": [
    "For point 3, we compare mean in same year catergory for different years."
   ]
  },
  {
   "cell_type": "code",
   "execution_count": 83,
   "metadata": {},
   "outputs": [
    {
     "data": {
      "text/plain": [
       "0.061599999999999995"
      ]
     },
     "execution_count": 83,
     "metadata": {},
     "output_type": "execute_result"
    }
   ],
   "source": [
    "# mean for under 5 years in 2016 data.\n",
    "mean_5_2016 = df_year[\"under 5 years(2016)\"].mean()\n",
    "mean_5_2016"
   ]
  },
  {
   "cell_type": "code",
   "execution_count": 84,
   "metadata": {},
   "outputs": [
    {
     "data": {
      "text/plain": [
       "0.065460000000000018"
      ]
     },
     "execution_count": 84,
     "metadata": {},
     "output_type": "execute_result"
    }
   ],
   "source": [
    "# mean for under 5 years in 2010 data.\n",
    "mean_5_2010 = df_year[\"under 5 years(2010)\"].mean()\n",
    "mean_5_2010"
   ]
  },
  {
   "cell_type": "code",
   "execution_count": 85,
   "metadata": {},
   "outputs": [
    {
     "data": {
      "text/plain": [
       "0.22750000000000001"
      ]
     },
     "execution_count": 85,
     "metadata": {},
     "output_type": "execute_result"
    }
   ],
   "source": [
    "# mean for under 18 years in 2016 data.\n",
    "mean_18_2016 = df_year[\"under 18 years(2016)\"].mean()\n",
    "mean_18_2016"
   ]
  },
  {
   "cell_type": "code",
   "execution_count": 87,
   "metadata": {},
   "outputs": [
    {
     "data": {
      "text/plain": [
       "0.23882"
      ]
     },
     "execution_count": 87,
     "metadata": {},
     "output_type": "execute_result"
    }
   ],
   "source": [
    "# mean for under 18 years in 2010 data.\n",
    "mean_18_2010 = df_year[\"under 18 years(2010)\"].mean()\n",
    "mean_18_2010"
   ]
  },
  {
   "cell_type": "code",
   "execution_count": 88,
   "metadata": {},
   "outputs": [
    {
     "data": {
      "text/plain": [
       "0.15615999999999999"
      ]
     },
     "execution_count": 88,
     "metadata": {},
     "output_type": "execute_result"
    }
   ],
   "source": [
    "# mean for over 65 years in 2016 data.\n",
    "mean_65_2016 = df_year[\"65 years and over(2016)\"].mean()\n",
    "mean_65_2016"
   ]
  },
  {
   "cell_type": "code",
   "execution_count": 89,
   "metadata": {},
   "outputs": [
    {
     "data": {
      "text/plain": [
       "0.13292000000000001"
      ]
     },
     "execution_count": 89,
     "metadata": {},
     "output_type": "execute_result"
    }
   ],
   "source": [
    "# mean for over 65 years in 2010 data.\n",
    "mean_65_2010 = df_year[\"65 years and over(2010)\"].mean()\n",
    "mean_65_2010"
   ]
  },
  {
   "cell_type": "code",
   "execution_count": 90,
   "metadata": {},
   "outputs": [
    {
     "data": {
      "image/png": "[encoded data removed]",
      "text/plain": [
       "<matplotlib.figure.Figure at 0x7f2bfcbf2588>"
      ]
     },
     "metadata": {
      "needs_background": "light"
     },
     "output_type": "display_data"
    }
   ],
   "source": [
    "# Use column chart to compare the different between 2010 data and 2016 data.\n",
    "\n",
    "N = 3\n",
    "means_2010 = (mean_5_2010, mean_18_2010, mean_65_2010)\n",
    "means_2016 = (mean_5_2016, mean_18_2016, mean_65_2016)\n",
    "\n",
    "ind = np.arange(N) \n",
    "width = 0.3     \n",
    "plt.bar(ind, means_2010, width, label='2010')\n",
    "plt.bar(ind + width, means_2016, width,\n",
    "    label='2016')\n",
    "\n",
    "plt.ylabel('gun holding rate')\n",
    "plt.title('Comparsion between 2010 and 2016 gun holding rate in different year group')\n",
    "\n",
    "plt.xticks(ind + width / 2, ('under 5 years', 'under 18 years', 'over 65 years'))\n",
    "plt.legend(loc='best')\n",
    "plt.show()"
   ]
  },
  {
   "cell_type": "markdown",
   "metadata": {},
   "source": [
    "We notice that, the mean difference in same category for different years is small.\n",
    "Also, '65 years and over' category, there is an increase of gun holding rate however in 'under 18 years' and 'under 5 years' categories, there is a decrease of gun holding rate.\n",
    "So we need to compare the difference in general."
   ]
  },
  {
   "cell_type": "code",
   "execution_count": 121,
   "metadata": {},
   "outputs": [
    {
     "data": {
      "image/png": "[encoded data removed]",
      "text/plain": [
       "<matplotlib.figure.Figure at 0x7f2bfdebeeb8>"
      ]
     },
     "metadata": {
      "needs_background": "light"
     },
     "output_type": "display_data"
    }
   ],
   "source": [
    "N = 1\n",
    "means_2010 = (mean_5_2010 + mean_18_2010 + mean_65_2010)/3\n",
    "means_2016 = (mean_5_2016 + mean_18_2016 + mean_65_2016)/3\n",
    "\n",
    "ind = np.arange(N)     \n",
    "plt.bar(ind, means_2010, 0.1, label='2010')\n",
    "plt.bar(ind + 0.15, means_2016, 0.1, label='2016')\n",
    "\n",
    "plt.ylabel('gun holding rate')\n",
    "plt.title('Comparsion between 2010 and 2016 gun holding rate in different year group')\n",
    "\n",
    "plt.xticks(ind + width / 2, ('mean average'))\n",
    "plt.legend(loc='best')\n",
    "plt.show()"
   ]
  },
  {
   "cell_type": "markdown",
   "metadata": {},
   "source": [
    "There is a slightly increase of gun holding rate between 2010 and 2016."
   ]
  },
  {
   "cell_type": "markdown",
   "metadata": {},
   "source": [
    "<a id='conclusions'></a>\n",
    "## Conclusions\n",
    "\n",
    "\n",
    "1. Research Question 1 (Attribute has the greatest impact)\n",
    "> In question 1, we are investing which attributes has the greatest impact on gun holding rate.\n",
    "> We compared three different attributes: races, education and years.\n",
    ">\n",
    "> Amoung these three attributes, white race and other races have the greatest difference, education between highschool graduation and bachelor graducation people's gun holding rate has a big difference, difference between different years is not very obvious compare to other two.\n",
    "\n",
    "\n",
    "\n",
    "2. Research Question 2 (Years)\n",
    "> In question 2 we answered two questions:\n",
    "> How does different year group have different gun holding rate.\n",
    "> How does gun holding rate change between 2010 and 2016 based on the data in year categroy.\n",
    ">\n",
    "> We have a obvious gun holding rate difference between people under 5 years, under 18 years and people over 65 years.\n",
    ">\n",
    "> People have a lower gun holding rate for whoever under 5 years.\n",
    "> People over 65 years have a higher gun holding rate than under 5 years.\n",
    "> People under 18 years have a higher gun holding rate than both under 5 years and over 65 years.\n",
    ">\n",
    "> We also have a slightly increase between gun holding rate in 2010 to 2016.\n",
    "\n",
    "### Limitation\n",
    "\n",
    "In our research, many attributes are hard to compare for impact. \n",
    "\n",
    "Regardless of the lacking kinds of attributes, although we find there is obvious impact between highschool degree and bachelor degree data, the data will be more persuasive if we have for example, data for people who do not finish highschool, or data who have post graduation education."
   ]
  },
  {
   "cell_type": "code",
   "execution_count": 122,
   "metadata": {},
   "outputs": [
    {
     "data": {
      "text/plain": [
       "0"
      ]
     },
     "execution_count": 122,
     "metadata": {},
     "output_type": "execute_result"
    }
   ],
   "source": [
    "from subprocess import call\n",
    "call(['python', '-m', 'nbconvert', 'Investigate_a_Dataset.ipynb'])"
   ]
  },
  {
   "cell_type": "code",
   "execution_count": null,
   "metadata": {},
   "outputs": [],
   "source": []
  }
 ],
 "metadata": {
  "kernelspec": {
   "display_name": "Python 3",
   "language": "python",
   "name": "python3"
  },
  "language_info": {
   "codemirror_mode": {
    "name": "ipython",
    "version": 3
   },
   "file_extension": ".py",
   "mimetype": "text/x-python",
   "name": "python",
   "nbconvert_exporter": "python",
   "pygments_lexer": "ipython3",
   "version": "3.6.3"
  }
 },
 "nbformat": 4,
 "nbformat_minor": 2
}
